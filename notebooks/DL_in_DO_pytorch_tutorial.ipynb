{
 "cells": [
  {
   "cell_type": "markdown",
   "metadata": {
    "colab_type": "text",
    "id": "OC88qWA7dANh"
   },
   "source": [
    "# Deep Learning in Discrete Optimization -- PyTorch Tutorial\n",
    "\n",
    "**Outline**\n",
    "\n",
    "1. Installing PyTorch or simply use Google Colab\n",
    "2. An example on using neural network to predict the connectedness of a six-node graph.\n",
    "3. Slight modifications to utilize the free GPU."
   ]
  },
  {
   "cell_type": "markdown",
   "metadata": {
    "colab_type": "text",
    "id": "aCwNNRiFdxDi"
   },
   "source": [
    "## 1. Installing PyTorch or simply use Google Colab\n",
    "\n",
    "-- Installing PyTorch by pip: run the following in terminal \"pip3 install torch torchvision\" (pip package installer required).\n",
    "\n",
    "-- An easier way to get started is using Google Colab: https://colab.research.google.com. Most common packages are already pre-installed  on Google Colab including PyTorch. It also provides free GPU (Nvidia Tesla K80) for deep learning tasks."
   ]
  },
  {
   "cell_type": "markdown",
   "metadata": {
    "colab_type": "text",
    "id": "6IceRzSWgqlq"
   },
   "source": [
    "## 2. An example on using neural network to predict the connectedness of a six-node graph.\n",
    "\n",
    "The data in \"graph6.txt\" is a table consisting of 16 columns. The first 15 columns contain the elements of a flatten upper triangular adjacency matrix of the graph where \"1\" indicates there is an edge between the pair of the nodes (6 choose 2 possible pairs). The last column is the connectedness of the graph where \"1\" indicates that the graph is connected."
   ]
  },
  {
   "cell_type": "code",
   "execution_count": 0,
   "metadata": {
    "colab": {},
    "colab_type": "code",
    "id": "nZFu3cpAc918"
   },
   "outputs": [],
   "source": [
    "import torch\n",
    "import torch.nn as nn"
   ]
  },
  {
   "cell_type": "markdown",
   "metadata": {
    "colab_type": "text",
    "id": "0TFnfzpqldDR"
   },
   "source": [
    "Build a three layer neural network for our task. With PyTorch, we only need to specify the forward layers and we get the backpropgation for free."
   ]
  },
  {
   "cell_type": "code",
   "execution_count": 0,
   "metadata": {
    "colab": {},
    "colab_type": "code",
    "id": "lJOigEhpkH3i"
   },
   "outputs": [],
   "source": [
    "class My_Net(nn.Module): \n",
    "    def __init__(self, input_size, num_neurons):\n",
    "        super(My_Net, self).__init__()\n",
    "        #feed forward layers\n",
    "        self.layer_1 = nn.Linear(input_size, num_neurons)\n",
    "        self.layer_2 = nn.Linear(num_neurons, num_neurons)\n",
    "        self.layer_3 = nn.Linear(num_neurons, 1)\n",
    "\n",
    "        #activations\n",
    "        self.relu = nn.ReLU()\n",
    "        self.sigmoid = nn.Sigmoid() #Use sigmoid to convert the output into range (0,1)\n",
    "        \n",
    "    def forward(self, input_data):\n",
    "        out = self.layer_1(input_data)\n",
    "        out = self.relu(out)\n",
    "        out = self.layer_2(out)\n",
    "        out = self.relu(out)\n",
    "        out = self.layer_3(out)\n",
    "        out = self.sigmoid(out).view(-1)\n",
    "        return out"
   ]
  },
  {
   "cell_type": "code",
   "execution_count": 0,
   "metadata": {
    "colab": {},
    "colab_type": "code",
    "id": "uod3kvaWmG1V"
   },
   "outputs": [],
   "source": [
    "#10 neurons for each hidden layers\n",
    "net=My_Net(input_size=15, num_neurons=10)\n",
    "\n",
    "#Standard cross entropy loss for classification tasks\n",
    "loss=nn.BCELoss()\n",
    "\n",
    "#Define the optimizer. Here we use Adam optimizer.\n",
    "opt=torch.optim.Adam(net.parameters(),lr=0.01)"
   ]
  },
  {
   "cell_type": "markdown",
   "metadata": {
    "colab_type": "text",
    "id": "N5ud7ShcnhhD"
   },
   "source": [
    "Load the data into tensors."
   ]
  },
  {
   "cell_type": "code",
   "execution_count": 0,
   "metadata": {
    "colab": {},
    "colab_type": "code",
    "id": "QgLdNfutnbtQ"
   },
   "outputs": [],
   "source": [
    "import pandas as pd\n",
    "import numpy as np\n",
    "import matplotlib.pyplot as plt"
   ]
  },
  {
   "cell_type": "markdown",
   "metadata": {
    "colab_type": "text",
    "id": "SXHfUHTxy7oZ"
   },
   "source": [
    "On Google Colab, the data files need to be uploaded to the cloud. Simply use the \"Files -- Upload\" on the left of the page to do a one-time upload. If you don't want to upload it everytime you use it, then upload the file to your Google Drive and use the \"Files --  Mount Drive\" to mount your google drive to the jupyter notebook."
   ]
  },
  {
   "cell_type": "code",
   "execution_count": 0,
   "metadata": {
    "colab": {},
    "colab_type": "code",
    "id": "Ip1uHqZoj-OP"
   },
   "outputs": [],
   "source": [
    "data = np.array(pd.read_table(\"graphs6.txt\", delimiter=' ', header=None),dtype=int)\n",
    "Xdata = data[:,:-1]\n",
    "Ydata = data[:,-1]"
   ]
  },
  {
   "cell_type": "code",
   "execution_count": 0,
   "metadata": {
    "colab": {},
    "colab_type": "code",
    "id": "pw1N7IJKnqHA"
   },
   "outputs": [],
   "source": [
    "from sklearn.model_selection import train_test_split\n",
    "X_train, X_test, y_train, y_test = train_test_split(Xdata, Ydata, test_size=0.5)"
   ]
  },
  {
   "cell_type": "code",
   "execution_count": 7,
   "metadata": {
    "colab": {
     "base_uri": "https://localhost:8080/",
     "height": 34
    },
    "colab_type": "code",
    "id": "HXPNVF_MpWhY",
    "outputId": "77210035-6ddb-4782-aa3c-5fbdb06bac0c"
   },
   "outputs": [
    {
     "data": {
      "text/plain": [
       "(16384, 15)"
      ]
     },
     "execution_count": 7,
     "metadata": {
      "tags": []
     },
     "output_type": "execute_result"
    }
   ],
   "source": [
    "np.shape(X_train)"
   ]
  },
  {
   "cell_type": "code",
   "execution_count": 0,
   "metadata": {
    "colab": {},
    "colab_type": "code",
    "id": "HWbtSRVhpYAT"
   },
   "outputs": [],
   "source": [
    "Xtrain = torch.Tensor(X_train)\n",
    "Xtest = torch.Tensor(X_test)\n",
    "ytrain = torch.Tensor(y_train)\n",
    "ytest = torch.Tensor(y_test)"
   ]
  },
  {
   "cell_type": "markdown",
   "metadata": {
    "colab_type": "text",
    "id": "Ml7w6g6mqrYt"
   },
   "source": [
    "Load the data into dataloaders(batches) for stochastic gradient descent."
   ]
  },
  {
   "cell_type": "code",
   "execution_count": 0,
   "metadata": {
    "colab": {},
    "colab_type": "code",
    "id": "sERJcYQ5p0i1"
   },
   "outputs": [],
   "source": [
    "train = torch.utils.data.TensorDataset(Xtrain, ytrain)\n",
    "test = torch.utils.data.TensorDataset(Xtest, ytest)\n",
    "\n",
    "train_loader = torch.utils.data.DataLoader(train, batch_size=128,num_workers=2)\n",
    "test_loader = torch.utils.data.DataLoader(test, batch_size=128, shuffle=False,num_workers=2)"
   ]
  },
  {
   "cell_type": "markdown",
   "metadata": {
    "colab_type": "text",
    "id": "y0Sd7g8NrDhC"
   },
   "source": [
    "Define the training and the testing function."
   ]
  },
  {
   "cell_type": "code",
   "execution_count": 0,
   "metadata": {
    "colab": {},
    "colab_type": "code",
    "id": "Lfbxm6GWq97u"
   },
   "outputs": [],
   "source": [
    "def train_eval(verbose = 1):\n",
    "    correct = 0\n",
    "    total = 0\n",
    "    loss_sum = 0\n",
    "    num_batches = 0\n",
    "    for inputs, labels in train_loader:\n",
    "        outputs = net(inputs)\n",
    "        predicted = outputs.data>0.5\n",
    "        total += labels.size(0)\n",
    "        correct += (predicted.int() == labels.int()).sum()\n",
    "        loss_sum  += loss(outputs,labels).item()\n",
    "        num_batches += 1\n",
    "\n",
    "    if verbose:\n",
    "        print('Train accuracy: %f %%' % (100 * correct.item() / total))\n",
    "    return loss_sum/num_batches, correct.item() / total\n",
    "\n",
    "def test_eval(verbose = 1):\n",
    "    correct = 0\n",
    "    total = 0\n",
    "    loss_sum = 0\n",
    "    num_batches = 0\n",
    "    for inputs, labels in test_loader:\n",
    "        outputs = net(inputs)\n",
    "        predicted = outputs.data>0.5\n",
    "        total += labels.size(0)\n",
    "        correct += (predicted.int() == labels.int()).sum()\n",
    "        loss_sum  += loss(outputs,labels).item()\n",
    "        num_batches += 1\n",
    "\n",
    "    if verbose:\n",
    "        print('Test accuracy: %f %%' % (100 * correct.item() / total))\n",
    "    return loss_sum/num_batches, correct.item() / total"
   ]
  },
  {
   "cell_type": "markdown",
   "metadata": {
    "colab_type": "text",
    "id": "a_j8Zx7nuhM4"
   },
   "source": [
    "Train the network and report  the training loss/accuracy."
   ]
  },
  {
   "cell_type": "code",
   "execution_count": 11,
   "metadata": {
    "colab": {
     "base_uri": "https://localhost:8080/",
     "height": 136
    },
    "colab_type": "code",
    "id": "VHXY1Om7tcO4",
    "outputId": "61694aff-b86b-4cdf-cbf4-5ac5fd7daa22"
   },
   "outputs": [
    {
     "data": {
      "text/plain": [
       "My_Net(\n",
       "  (layer_1): Linear(in_features=15, out_features=10, bias=True)\n",
       "  (layer_2): Linear(in_features=10, out_features=10, bias=True)\n",
       "  (layer_3): Linear(in_features=10, out_features=1, bias=True)\n",
       "  (relu): ReLU()\n",
       "  (sigmoid): Sigmoid()\n",
       ")"
      ]
     },
     "execution_count": 11,
     "metadata": {
      "tags": []
     },
     "output_type": "execute_result"
    }
   ],
   "source": [
    "#initialize the network using Xavier initialization.\n",
    "def weights_init(m):\n",
    "    if isinstance(m, nn.Conv2d) or isinstance(m, nn.Linear):\n",
    "        nn.init.xavier_uniform_(m.weight.data)\n",
    "\n",
    "net.apply(weights_init)"
   ]
  },
  {
   "cell_type": "code",
   "execution_count": 12,
   "metadata": {
    "colab": {
     "base_uri": "https://localhost:8080/",
     "height": 1000
    },
    "colab_type": "code",
    "id": "Qj4nCmXgusWg",
    "outputId": "55141f89-caf8-4bd3-8c59-50807b05b7f5"
   },
   "outputs": [
    {
     "name": "stdout",
     "output_type": "stream",
     "text": [
      "In epoch 1 : \n",
      "Train accuracy: 88.653564 %\n",
      "Test accuracy: 88.629150 %\n",
      "Time lapse: 1.140000 secs\n",
      "In epoch 2 : \n",
      "Train accuracy: 90.521240 %\n",
      "Test accuracy: 89.807129 %\n",
      "Time lapse: 1.070000 secs\n",
      "In epoch 3 : \n",
      "Train accuracy: 91.564941 %\n",
      "Test accuracy: 90.594482 %\n",
      "Time lapse: 1.060000 secs\n",
      "In epoch 4 : \n",
      "Train accuracy: 92.016602 %\n",
      "Test accuracy: 91.180420 %\n",
      "Time lapse: 1.090000 secs\n",
      "In epoch 5 : \n",
      "Train accuracy: 93.115234 %\n",
      "Test accuracy: 92.675781 %\n",
      "Time lapse: 1.040000 secs\n",
      "In epoch 6 : \n",
      "Train accuracy: 94.445801 %\n",
      "Test accuracy: 93.945312 %\n",
      "Time lapse: 1.060000 secs\n",
      "In epoch 7 : \n",
      "Train accuracy: 94.836426 %\n",
      "Test accuracy: 94.537354 %\n",
      "Time lapse: 1.080000 secs\n",
      "In epoch 8 : \n",
      "Train accuracy: 95.227051 %\n",
      "Test accuracy: 94.952393 %\n",
      "Time lapse: 1.080000 secs\n",
      "In epoch 9 : \n",
      "Train accuracy: 95.532227 %\n",
      "Test accuracy: 95.294189 %\n",
      "Time lapse: 1.060000 secs\n",
      "In epoch 10 : \n",
      "Train accuracy: 95.703125 %\n",
      "Test accuracy: 95.654297 %\n",
      "Time lapse: 1.120000 secs\n",
      "In epoch 11 : \n",
      "Train accuracy: 95.996094 %\n",
      "Test accuracy: 95.721436 %\n",
      "Time lapse: 1.130000 secs\n",
      "In epoch 12 : \n",
      "Train accuracy: 96.697998 %\n",
      "Test accuracy: 96.435547 %\n",
      "Time lapse: 1.100000 secs\n",
      "In epoch 13 : \n",
      "Train accuracy: 97.265625 %\n",
      "Test accuracy: 96.978760 %\n",
      "Time lapse: 1.070000 secs\n",
      "In epoch 14 : \n",
      "Train accuracy: 97.778320 %\n",
      "Test accuracy: 97.540283 %\n",
      "Time lapse: 1.090000 secs\n",
      "In epoch 15 : \n",
      "Train accuracy: 98.065186 %\n",
      "Test accuracy: 97.839355 %\n",
      "Time lapse: 1.080000 secs\n",
      "In epoch 16 : \n",
      "Train accuracy: 98.272705 %\n",
      "Test accuracy: 97.998047 %\n",
      "Time lapse: 1.120000 secs\n",
      "In epoch 17 : \n",
      "Train accuracy: 98.345947 %\n",
      "Test accuracy: 98.229980 %\n",
      "Time lapse: 1.090000 secs\n",
      "In epoch 18 : \n",
      "Train accuracy: 98.394775 %\n",
      "Test accuracy: 98.333740 %\n",
      "Time lapse: 1.080000 secs\n",
      "In epoch 19 : \n",
      "Train accuracy: 98.480225 %\n",
      "Test accuracy: 98.388672 %\n",
      "Time lapse: 1.080000 secs\n",
      "In epoch 20 : \n",
      "Train accuracy: 98.516846 %\n",
      "Test accuracy: 98.431396 %\n",
      "Time lapse: 1.100000 secs\n",
      "In epoch 21 : \n",
      "Train accuracy: 98.522949 %\n",
      "Test accuracy: 98.419189 %\n",
      "Time lapse: 1.090000 secs\n",
      "In epoch 22 : \n",
      "Train accuracy: 98.596191 %\n",
      "Test accuracy: 98.510742 %\n",
      "Time lapse: 1.060000 secs\n",
      "In epoch 23 : \n",
      "Train accuracy: 98.620605 %\n",
      "Test accuracy: 98.492432 %\n",
      "Time lapse: 1.090000 secs\n",
      "In epoch 24 : \n",
      "Train accuracy: 98.590088 %\n",
      "Test accuracy: 98.504639 %\n",
      "Time lapse: 1.100000 secs\n",
      "In epoch 25 : \n",
      "Train accuracy: 98.590088 %\n",
      "Test accuracy: 98.535156 %\n",
      "Time lapse: 1.060000 secs\n"
     ]
    }
   ],
   "source": [
    "import time\n",
    "\n",
    "epochs=25;\n",
    "train_loss_store = []\n",
    "train_acc_store = []\n",
    "test_loss_store = []\n",
    "test_acc_store = []\n",
    "\n",
    "\n",
    "for epoch in range(epochs):\n",
    "    time1=time.time()\n",
    "    print('In epoch %i : '%(epoch+1))\n",
    "    for i, (x,y) in enumerate(train_loader,0):\n",
    "        #set the gradients to zero initially for each batch\n",
    "        opt.zero_grad()\n",
    "        outputs = net(x)\n",
    "        l=loss(outputs, y)\n",
    "        l.backward()\n",
    "        opt.step()\n",
    "    \n",
    "    l_temp, acc_temp = train_eval()\n",
    "    train_loss_store.append(l_temp)\n",
    "    train_acc_store.append(acc_temp)\n",
    "\n",
    "    l_temp, acc_temp = test_eval()\n",
    "    test_loss_store.append(l_temp)\n",
    "    test_acc_store.append(acc_temp)\n",
    "\n",
    "    time2=time.time()\n",
    "    print(\"Time lapse: %f secs\" %round((time2-time1),2))"
   ]
  },
  {
   "cell_type": "markdown",
   "metadata": {
    "colab_type": "text",
    "id": "B7v67mc6wnVv"
   },
   "source": [
    "Visualize the training and testing loss/accuracy."
   ]
  },
  {
   "cell_type": "code",
   "execution_count": 13,
   "metadata": {
    "colab": {
     "base_uri": "https://localhost:8080/",
     "height": 295
    },
    "colab_type": "code",
    "id": "zaVNg3qkvrCL",
    "outputId": "313eb543-0fd7-49b4-e59d-3342b4a11e92"
   },
   "outputs": [
    {
     "data": {
      "image/png": "[encoded data removed]",
      "text/plain": [
       "<Figure size 432x288 with 1 Axes>"
      ]
     },
     "metadata": {
      "tags": []
     },
     "output_type": "display_data"
    }
   ],
   "source": [
    "plt.plot(train_acc_store,'r-o')\n",
    "plt.plot(test_acc_store,'b-o')\n",
    "plt.xlabel('number of epochs')\n",
    "plt.ylabel('accuracy')\n",
    "plt.ylim(0.85,1)\n",
    "plt.legend(('train','test'),loc='upper left')\n",
    "plt.title('train and test accuracy wrt epochs')\n",
    "plt.show()"
   ]
  },
  {
   "cell_type": "code",
   "execution_count": 14,
   "metadata": {
    "colab": {
     "base_uri": "https://localhost:8080/",
     "height": 295
    },
    "colab_type": "code",
    "id": "VfwVN7tkwad0",
    "outputId": "a0a8d6a5-27de-4d81-9783-7cefb27957ca"
   },
   "outputs": [
    {
     "data": {
      "image/png": "[encoded data removed]",
      "text/plain": [
       "<Figure size 432x288 with 1 Axes>"
      ]
     },
     "metadata": {
      "tags": []
     },
     "output_type": "display_data"
    }
   ],
   "source": [
    "plt.plot(train_loss_store,'r-o')\n",
    "plt.plot(test_loss_store,'b-o')\n",
    "plt.xlabel('number of epochs')\n",
    "plt.ylabel('loss')\n",
    "plt.legend(('train','test'),loc='upper right')\n",
    "plt.title('train and test loss wrt epochs')\n",
    "plt.show()"
   ]
  },
  {
   "cell_type": "markdown",
   "metadata": {
    "colab_type": "text",
    "id": "2iOKLUitxvZS"
   },
   "source": [
    "## 3. Slight modifications to utilize the free GPU\n",
    "Enable the GPU by changing the runtime to a GPU runtime. Click \"Runtime\" on the top of the page, then \"change runtime type -- Hardware accelerator -- GPU\"."
   ]
  },
  {
   "cell_type": "code",
   "execution_count": 15,
   "metadata": {
    "colab": {
     "base_uri": "https://localhost:8080/",
     "height": 34
    },
    "colab_type": "code",
    "id": "R3PC1XIawxSa",
    "outputId": "9ffd4823-4b44-40e6-9376-6014bb207fd7"
   },
   "outputs": [
    {
     "name": "stdout",
     "output_type": "stream",
     "text": [
      "Is GPU available for use?     True\n"
     ]
    }
   ],
   "source": [
    "#check if GPU is available\n",
    "gpu_boole = torch.cuda.is_available()\n",
    "print(\"Is GPU available for use?     \" + str(gpu_boole))"
   ]
  },
  {
   "cell_type": "code",
   "execution_count": 0,
   "metadata": {
    "colab": {},
    "colab_type": "code",
    "id": "GNNu-IRFzn08"
   },
   "outputs": [],
   "source": [
    "#redefine the net to cuda gpu\n",
    "\n",
    "net=My_Net(input_size=15, num_neurons=10)\n",
    "if gpu_boole: \n",
    "    net=net.cuda()\n",
    "\n",
    "#Standard cross entropy loss for classification tasks\n",
    "loss=nn.BCELoss()\n",
    "\n",
    "#Define the optimizer. Here we use Adam optimizer.\n",
    "opt=torch.optim.Adam(net.parameters(),lr=0.01)"
   ]
  },
  {
   "cell_type": "code",
   "execution_count": 0,
   "metadata": {
    "colab": {},
    "colab_type": "code",
    "id": "8d1B9mQv0qmM"
   },
   "outputs": [],
   "source": [
    "#inputs need to be redefined accordingly\n",
    "def train_eval(verbose = 1):\n",
    "    correct = 0\n",
    "    total = 0\n",
    "    loss_sum = 0\n",
    "    num_batches = 0\n",
    "    for inputs, labels in train_loader:\n",
    "        #send inputs to cuda\n",
    "        if gpu_boole:\n",
    "            inputs, labels = inputs.cuda(), labels.cuda()\n",
    "        outputs = net(inputs)\n",
    "        predicted = outputs.data>0.5\n",
    "        total += labels.size(0)\n",
    "        correct += (predicted.int() == labels.int()).sum()\n",
    "        loss_sum  += loss(outputs,labels).item()\n",
    "        num_batches += 1\n",
    "\n",
    "    if verbose:\n",
    "        print('Train accuracy: %f %%' % (100 * correct.item() / total))\n",
    "    return loss_sum/num_batches, correct.item() / total\n",
    "\n",
    "def test_eval(verbose = 1):\n",
    "    correct = 0\n",
    "    total = 0\n",
    "    loss_sum = 0\n",
    "    num_batches = 0\n",
    "    for inputs, labels in test_loader:\n",
    "        #send inputs to cuda\n",
    "        if gpu_boole:\n",
    "            inputs, labels = inputs.cuda(), labels.cuda()\n",
    "        outputs = net(inputs)\n",
    "        predicted = outputs.data>0.5\n",
    "        total += labels.size(0)\n",
    "        correct += (predicted.int() == labels.int()).sum()\n",
    "        loss_sum  += loss(outputs,labels).item()\n",
    "        num_batches += 1\n",
    "\n",
    "    if verbose:\n",
    "        print('Test accuracy: %f %%' % (100 * correct.item() / total))\n",
    "    return loss_sum/num_batches, correct.item() / total"
   ]
  },
  {
   "cell_type": "code",
   "execution_count": 18,
   "metadata": {
    "colab": {
     "base_uri": "https://localhost:8080/",
     "height": 1000
    },
    "colab_type": "code",
    "id": "UNTJOVFF0h8b",
    "outputId": "248dc152-233d-4a94-cf52-f86b1238a596"
   },
   "outputs": [
    {
     "name": "stdout",
     "output_type": "stream",
     "text": [
      "In epoch 1 : \n",
      "Train accuracy: 89.117432 %\n",
      "Test accuracy: 88.262939 %\n",
      "Time lapse: 1.390000 secs\n",
      "In epoch 2 : \n",
      "Train accuracy: 91.656494 %\n",
      "Test accuracy: 91.564941 %\n",
      "Time lapse: 1.350000 secs\n",
      "In epoch 3 : \n",
      "Train accuracy: 94.226074 %\n",
      "Test accuracy: 94.024658 %\n",
      "Time lapse: 1.380000 secs\n",
      "In epoch 4 : \n",
      "Train accuracy: 96.118164 %\n",
      "Test accuracy: 95.849609 %\n",
      "Time lapse: 1.420000 secs\n",
      "In epoch 5 : \n",
      "Train accuracy: 97.912598 %\n",
      "Test accuracy: 97.863770 %\n",
      "Time lapse: 1.340000 secs\n",
      "In epoch 6 : \n",
      "Train accuracy: 98.400879 %\n",
      "Test accuracy: 98.278809 %\n",
      "Time lapse: 1.360000 secs\n",
      "In epoch 7 : \n",
      "Train accuracy: 98.406982 %\n",
      "Test accuracy: 98.315430 %\n",
      "Time lapse: 1.330000 secs\n",
      "In epoch 8 : \n",
      "Train accuracy: 98.254395 %\n",
      "Test accuracy: 98.278809 %\n",
      "Time lapse: 1.370000 secs\n",
      "In epoch 9 : \n",
      "Train accuracy: 98.120117 %\n",
      "Test accuracy: 98.028564 %\n",
      "Time lapse: 1.440000 secs\n",
      "In epoch 10 : \n",
      "Train accuracy: 98.242188 %\n",
      "Test accuracy: 98.126221 %\n",
      "Time lapse: 1.350000 secs\n",
      "In epoch 11 : \n",
      "Train accuracy: 98.339844 %\n",
      "Test accuracy: 98.284912 %\n",
      "Time lapse: 1.330000 secs\n",
      "In epoch 12 : \n",
      "Train accuracy: 98.315430 %\n",
      "Test accuracy: 98.260498 %\n",
      "Time lapse: 1.360000 secs\n",
      "In epoch 13 : \n",
      "Train accuracy: 98.529053 %\n",
      "Test accuracy: 98.394775 %\n",
      "Time lapse: 1.390000 secs\n",
      "In epoch 14 : \n",
      "Train accuracy: 98.309326 %\n",
      "Test accuracy: 98.175049 %\n",
      "Time lapse: 1.460000 secs\n",
      "In epoch 15 : \n",
      "Train accuracy: 98.449707 %\n",
      "Test accuracy: 98.248291 %\n",
      "Time lapse: 1.440000 secs\n",
      "In epoch 16 : \n",
      "Train accuracy: 98.461914 %\n",
      "Test accuracy: 98.358154 %\n",
      "Time lapse: 1.380000 secs\n",
      "In epoch 17 : \n",
      "Train accuracy: 98.663330 %\n",
      "Test accuracy: 98.577881 %\n",
      "Time lapse: 1.480000 secs\n",
      "In epoch 18 : \n",
      "Train accuracy: 98.541260 %\n",
      "Test accuracy: 98.400879 %\n",
      "Time lapse: 1.480000 secs\n",
      "In epoch 19 : \n",
      "Train accuracy: 98.754883 %\n",
      "Test accuracy: 98.504639 %\n",
      "Time lapse: 1.410000 secs\n",
      "In epoch 20 : \n",
      "Train accuracy: 98.797607 %\n",
      "Test accuracy: 98.596191 %\n",
      "Time lapse: 1.380000 secs\n",
      "In epoch 21 : \n",
      "Train accuracy: 98.815918 %\n",
      "Test accuracy: 98.590088 %\n",
      "Time lapse: 1.310000 secs\n",
      "In epoch 22 : \n",
      "Train accuracy: 98.907471 %\n",
      "Test accuracy: 98.712158 %\n",
      "Time lapse: 1.410000 secs\n",
      "In epoch 23 : \n",
      "Train accuracy: 98.815918 %\n",
      "Test accuracy: 98.547363 %\n",
      "Time lapse: 1.380000 secs\n",
      "In epoch 24 : \n",
      "Train accuracy: 98.974609 %\n",
      "Test accuracy: 98.730469 %\n",
      "Time lapse: 1.350000 secs\n",
      "In epoch 25 : \n",
      "Train accuracy: 98.754883 %\n",
      "Test accuracy: 98.388672 %\n",
      "Time lapse: 1.320000 secs\n"
     ]
    }
   ],
   "source": [
    "import time\n",
    "\n",
    "net.apply(weights_init)\n",
    "\n",
    "epochs=25;\n",
    "train_loss_store = []\n",
    "train_acc_store = []\n",
    "test_loss_store = []\n",
    "test_acc_store = []\n",
    "\n",
    "\n",
    "for epoch in range(epochs):\n",
    "    time1=time.time()\n",
    "    print('In epoch %i : '%(epoch+1))\n",
    "    for i, (x,y) in enumerate(train_loader,0):\n",
    "        #send inputs to cuda\n",
    "        if gpu_boole:\n",
    "            x, y = x.cuda(), y.cuda()\n",
    "        #set the gradients to zero initially for each batch\n",
    "        opt.zero_grad()\n",
    "        outputs = net(x)\n",
    "        l=loss(outputs, y)\n",
    "        l.backward()\n",
    "        opt.step()\n",
    "    \n",
    "    l_temp, acc_temp = train_eval()\n",
    "    train_loss_store.append(l_temp)\n",
    "    train_acc_store.append(acc_temp)\n",
    "\n",
    "    l_temp, acc_temp = test_eval()\n",
    "    test_loss_store.append(l_temp)\n",
    "    test_acc_store.append(acc_temp)\n",
    "\n",
    "    time2=time.time()\n",
    "    print(\"Time lapse: %f secs\" %round((time2-time1),2))"
   ]
  },
  {
   "cell_type": "markdown",
   "metadata": {
    "colab_type": "text",
    "id": "7Lm6jDi72Vbj"
   },
   "source": [
    "Remarks: For this problem, the data size is rather small and the inputs are not images so doing all the computation on CPU is even faster than on GPU. If a specific task requires processing images or computing convolutions then it may be preferable to work on a GPU."
   ]
  },
  {
   "cell_type": "code",
   "execution_count": 0,
   "metadata": {
    "colab": {},
    "colab_type": "code",
    "id": "l0OkcLRO2ifL"
   },
   "outputs": [],
   "source": []
  }
 ],
 "metadata": {
  "accelerator": "GPU",
  "colab": {
   "collapsed_sections": [],
   "name": "DL_in_DO_pytorch.ipynb",
   "provenance": []
  },
  "kernelspec": {
   "display_name": "Python 3",
   "language": "python",
   "name": "python3"
  },
  "language_info": {
   "codemirror_mode": {
    "name": "ipython",
    "version": 3
   },
   "file_extension": ".py",
   "mimetype": "text/x-python",
   "name": "python",
   "nbconvert_exporter": "python",
   "pygments_lexer": "ipython3",
   "version": "3.7.3"
  }
 },
 "nbformat": 4,
 "nbformat_minor": 1
}
